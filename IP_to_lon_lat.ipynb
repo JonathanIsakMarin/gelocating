{
 "cells": [
  {
   "cell_type": "markdown",
   "metadata": {},
   "source": [
    "# Obtaining longitude and latitude from IP-address"
   ]
  },
  {
   "cell_type": "code",
   "execution_count": 54,
   "metadata": {},
   "outputs": [],
   "source": [
    "from geolite2 import geolite2\n",
    "import pandas as pd \n",
    "import numpy as np "
   ]
  },
  {
   "cell_type": "code",
   "execution_count": 55,
   "metadata": {},
   "outputs": [],
   "source": [
    "# Read data\n",
    "data = pd.read_excel(\"your_data.xlsx\")"
   ]
  },
  {
   "cell_type": "code",
   "execution_count": 56,
   "metadata": {},
   "outputs": [],
   "source": [
    "# Test geolite2\n",
    "reader = geolite2.reader()\n",
    "reader.get('131.165.115.153')"
   ]
  },
  {
   "cell_type": "code",
   "execution_count": 45,
   "metadata": {},
   "outputs": [],
   "source": [
    "# Function to get ip adress\n",
    "\n",
    "lon = []\n",
    "lat = []\n",
    "\n",
    "for i in data[\"IP-adresse\"]:\n",
    "    # Initializes geolite, gets IP-address, acesses nested dict and grabs lat \n",
    "    reader = geolite2.reader()\n",
    "    reader = reader.get(i)\n",
    "    if reader is not None: \n",
    "        v = reader.get('location')\n",
    "        lat.append(v.get(\"latitude\"))\n",
    "    \n",
    "for i in data[\"IP-adresse\"]:\n",
    "    # Initializes geolite, gets IP-address, acesses nested dict and grabs lon \n",
    "    reader = geolite2.reader()\n",
    "    reader = reader.get(i)\n",
    "    if reader is not None: \n",
    "        x = reader.get('location')\n",
    "        lon.append(x.get(\"longitude\"))    "
   ]
  },
  {
   "cell_type": "code",
   "execution_count": 11,
   "metadata": {},
   "outputs": [],
   "source": [
    "#Convert to dataframe: \n",
    "final_data = pd.DataFrame({'lon':lon, \"lat\": lat})\n",
    "final_data\n",
    "\n",
    "#Save as .xlsx\n",
    "writer = pd.ExcelWriter('web_data.xlsx')\n",
    "final_data.to_excel(writer,'Sheet1')\n",
    "writer.save()"
   ]
  }
 ],
 "metadata": {
  "kernelspec": {
   "display_name": "Python 3",
   "language": "python",
   "name": "python3"
  },
  "language_info": {
   "codemirror_mode": {
    "name": "ipython",
    "version": 3
   },
   "file_extension": ".py",
   "mimetype": "text/x-python",
   "name": "python",
   "nbconvert_exporter": "python",
   "pygments_lexer": "ipython3",
   "version": "3.6.4"
  }
 },
 "nbformat": 4,
 "nbformat_minor": 2
}
